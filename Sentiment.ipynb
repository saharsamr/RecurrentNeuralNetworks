{
 "cells": [
  {
   "cell_type": "code",
   "execution_count": 104,
   "metadata": {
    "execution": {
     "iopub.execute_input": "2021-06-25T16:49:20.850349Z",
     "iopub.status.busy": "2021-06-25T16:49:20.849966Z",
     "iopub.status.idle": "2021-06-25T16:49:32.181978Z",
     "shell.execute_reply": "2021-06-25T16:49:32.181153Z",
     "shell.execute_reply.started": "2021-06-25T16:49:20.850313Z"
    },
    "id": "pJFD2j0DXBPp",
    "outputId": "6163bdb5-1c6d-498a-b0c2-d23c2822f9eb"
   },
   "outputs": [
    {
     "name": "stdout",
     "output_type": "stream",
     "text": [
      "Requirement already satisfied: transformers in /opt/conda/lib/python3.7/site-packages (4.5.1)\n",
      "Requirement already satisfied: tqdm>=4.27 in /opt/conda/lib/python3.7/site-packages (from transformers) (4.59.0)\n",
      "Requirement already satisfied: numpy>=1.17 in /opt/conda/lib/python3.7/site-packages (from transformers) (1.19.5)\n",
      "Requirement already satisfied: tokenizers<0.11,>=0.10.1 in /opt/conda/lib/python3.7/site-packages (from transformers) (0.10.2)\n",
      "Requirement already satisfied: packaging in /opt/conda/lib/python3.7/site-packages (from transformers) (20.9)\n",
      "Requirement already satisfied: importlib-metadata in /opt/conda/lib/python3.7/site-packages (from transformers) (3.4.0)\n",
      "Requirement already satisfied: filelock in /opt/conda/lib/python3.7/site-packages (from transformers) (3.0.12)\n",
      "Requirement already satisfied: regex!=2019.12.17 in /opt/conda/lib/python3.7/site-packages (from transformers) (2021.3.17)\n",
      "Requirement already satisfied: requests in /opt/conda/lib/python3.7/site-packages (from transformers) (2.25.1)\n",
      "Requirement already satisfied: sacremoses in /opt/conda/lib/python3.7/site-packages (from transformers) (0.0.45)\n",
      "Requirement already satisfied: zipp>=0.5 in /opt/conda/lib/python3.7/site-packages (from importlib-metadata->transformers) (3.4.1)\n",
      "Requirement already satisfied: typing-extensions>=3.6.4 in /opt/conda/lib/python3.7/site-packages (from importlib-metadata->transformers) (3.7.4.3)\n",
      "Requirement already satisfied: pyparsing>=2.0.2 in /opt/conda/lib/python3.7/site-packages (from packaging->transformers) (2.4.7)\n",
      "Requirement already satisfied: chardet<5,>=3.0.2 in /opt/conda/lib/python3.7/site-packages (from requests->transformers) (4.0.0)\n",
      "Requirement already satisfied: certifi>=2017.4.17 in /opt/conda/lib/python3.7/site-packages (from requests->transformers) (2020.12.5)\n",
      "Requirement already satisfied: idna<3,>=2.5 in /opt/conda/lib/python3.7/site-packages (from requests->transformers) (2.10)\n",
      "Requirement already satisfied: urllib3<1.27,>=1.21.1 in /opt/conda/lib/python3.7/site-packages (from requests->transformers) (1.26.4)\n",
      "Requirement already satisfied: click in /opt/conda/lib/python3.7/site-packages (from sacremoses->transformers) (7.1.2)\n",
      "Requirement already satisfied: joblib in /opt/conda/lib/python3.7/site-packages (from sacremoses->transformers) (1.0.1)\n",
      "Requirement already satisfied: six in /opt/conda/lib/python3.7/site-packages (from sacremoses->transformers) (1.15.0)\n",
      "Requirement already satisfied: tweet-preprocessor in /opt/conda/lib/python3.7/site-packages (0.6.0)\n"
     ]
    }
   ],
   "source": [
    "from torch import nn, tensor, optim\n",
    "from torch.nn.utils.rnn import pad_sequence\n",
    "from torch.nn.utils.rnn import pack_padded_sequence\n",
    "from torch.nn.utils.rnn import pad_packed_sequence\n",
    "import torch.nn.functional as F\n",
    "import torch\n",
    "\n",
    "import nltk\n",
    "from nltk.corpus import stopwords, wordnet\n",
    "\n",
    "from sklearn.model_selection import train_test_split\n",
    "from sklearn.metrics import classification_report\n",
    "from sklearn.metrics import accuracy_score as accuracy\n",
    "from sklearn.metrics import confusion_matrix\n",
    "\n",
    "!pip install transformers\n",
    "from transformers import BertModel\n",
    "from transformers import BertTokenizer\n",
    "\n",
    "!pip install tweet-preprocessor\n",
    "import preprocessor as p\n",
    "\n",
    "import numpy as np\n",
    "import pandas as pd\n",
    "\n",
    "import matplotlib.pyplot as plt\n",
    "import seaborn as sns\n",
    "\n",
    "import time\n",
    "\n",
    "import string\n",
    "import random"
   ]
  },
  {
   "cell_type": "code",
   "execution_count": 78,
   "metadata": {
    "execution": {
     "iopub.execute_input": "2021-06-25T16:00:24.072760Z",
     "iopub.status.busy": "2021-06-25T16:00:24.072377Z",
     "iopub.status.idle": "2021-06-25T16:00:24.238497Z",
     "shell.execute_reply": "2021-06-25T16:00:24.237685Z",
     "shell.execute_reply.started": "2021-06-25T16:00:24.072717Z"
    },
    "id": "cx4RilwcbjZO",
    "outputId": "4dbde5e0-cd54-4f10-abcc-6f89652c7556"
   },
   "outputs": [
    {
     "name": "stdout",
     "output_type": "stream",
     "text": [
      "[nltk_data] Downloading package wordnet to /usr/share/nltk_data...\n",
      "[nltk_data]   Package wordnet is already up-to-date!\n",
      "[nltk_data] Downloading package stopwords to /usr/share/nltk_data...\n",
      "[nltk_data]   Package stopwords is already up-to-date!\n"
     ]
    },
    {
     "data": {
      "text/plain": [
       "True"
      ]
     },
     "execution_count": 78,
     "metadata": {},
     "output_type": "execute_result"
    }
   ],
   "source": [
    "nltk.download('wordnet')\n",
    "nltk.download('stopwords')"
   ]
  },
  {
   "cell_type": "code",
   "execution_count": 79,
   "metadata": {
    "execution": {
     "iopub.execute_input": "2021-06-25T16:00:24.242652Z",
     "iopub.status.busy": "2021-06-25T16:00:24.242400Z",
     "iopub.status.idle": "2021-06-25T16:00:24.273638Z",
     "shell.execute_reply": "2021-06-25T16:00:24.272909Z",
     "shell.execute_reply.started": "2021-06-25T16:00:24.242627Z"
    },
    "id": "nDY9lgetXrYr"
   },
   "outputs": [],
   "source": [
    "data = pd.read_csv('../input/sentiment/sentiment_final.csv')"
   ]
  },
  {
   "cell_type": "code",
   "execution_count": 80,
   "metadata": {
    "execution": {
     "iopub.execute_input": "2021-06-25T16:00:24.275599Z",
     "iopub.status.busy": "2021-06-25T16:00:24.275228Z",
     "iopub.status.idle": "2021-06-25T16:00:24.286356Z",
     "shell.execute_reply": "2021-06-25T16:00:24.285304Z",
     "shell.execute_reply.started": "2021-06-25T16:00:24.275565Z"
    },
    "id": "jnUgnJ9HXCm2"
   },
   "outputs": [],
   "source": [
    "def is_all_letter(word):\n",
    "    \n",
    "    for char in word:\n",
    "        if char not in ' qwertyuiopasdfghjklzxcvbnm':\n",
    "            return False\n",
    "        \n",
    "    return True\n",
    "\n",
    "\n",
    "def remove_characters(str_, chars):\n",
    "    \n",
    "    for char in chars:\n",
    "        str_ = str_.replace(char, '')\n",
    "        \n",
    "    return str_\n",
    "\n",
    "\n",
    "def get_synonyms(word):\n",
    "    \n",
    "    synonyms = set()\n",
    "    \n",
    "    for syn in wordnet.synsets(word): \n",
    "        for l in syn.lemmas(): \n",
    "            synonym = l.name().replace(\"_\", \" \").replace(\"-\", \" \").lower()\n",
    "            synonym = \"\".join([char for char in synonym if char in ' qwertyuiopasdfghjklzxcvbnm'])\n",
    "            synonyms.add(synonym) \n",
    "    \n",
    "    if word in synonyms:\n",
    "        synonyms.remove(word)\n",
    "    \n",
    "    return list(synonyms)\n",
    "\n",
    "\n",
    "def generate_sentence(text, n=2):\n",
    "    \n",
    "    new_text = remove_characters(text, string.punctuation)\n",
    "    word_set = set([word for word in new_text.split() if len(word) > 3 and is_all_letter(word.lower())])\n",
    "    selected_words = random.sample(list(word_set), min(n, len(word_set)))\n",
    "    for word in selected_words:\n",
    "        \n",
    "        synonyms = get_synonyms(word)\n",
    "        if len(synonyms) != 0:\n",
    "        \n",
    "            new_word = random.sample(synonyms, 1)[0]\n",
    "            text = text.replace(word, new_word)\n",
    "        \n",
    "    return text"
   ]
  },
  {
   "cell_type": "code",
   "execution_count": 81,
   "metadata": {
    "execution": {
     "iopub.execute_input": "2021-06-25T16:00:24.288512Z",
     "iopub.status.busy": "2021-06-25T16:00:24.287870Z",
     "iopub.status.idle": "2021-06-25T16:00:24.300564Z",
     "shell.execute_reply": "2021-06-25T16:00:24.299563Z",
     "shell.execute_reply.started": "2021-06-25T16:00:24.288476Z"
    }
   },
   "outputs": [],
   "source": [
    "def split_data(data):\n",
    "    \n",
    "    neg_id = data.index[data['sentiment'] == 'Negative'].tolist()\n",
    "    pos_id = data.index[data['sentiment'] == 'Positive'].tolist()\n",
    "    \n",
    "    neg_train_id, neg_test_id, _, _ = train_test_split(neg_id, neg_id, test_size=0.3)\n",
    "    neg_test_id, neg_valid_id, _, _ = train_test_split(neg_test_id, neg_test_id, test_size=1/3)\n",
    "    \n",
    "    pos_train_id, pos_test_id, _, _ = train_test_split(pos_id, pos_id, test_size=0.3)\n",
    "    pos_test_id, pos_valid_id, _, _ = train_test_split(pos_test_id, pos_test_id, test_size=1/3)\n",
    "    \n",
    "    neg_train_id.extend(pos_train_id)\n",
    "    neg_test_id.extend(pos_test_id)\n",
    "    neg_valid_id.extend(pos_valid_id)\n",
    "    \n",
    "    train = data.iloc[neg_train_id].sample(frac=1)\n",
    "    test = data.iloc[neg_test_id].sample(frac=1)\n",
    "    valid = data.iloc[neg_valid_id].sample(frac=1)\n",
    "    \n",
    "    return train, test, valid"
   ]
  },
  {
   "cell_type": "code",
   "execution_count": 82,
   "metadata": {
    "execution": {
     "iopub.execute_input": "2021-06-25T16:00:24.302753Z",
     "iopub.status.busy": "2021-06-25T16:00:24.302080Z",
     "iopub.status.idle": "2021-06-25T16:00:24.334118Z",
     "shell.execute_reply": "2021-06-25T16:00:24.333459Z",
     "shell.execute_reply.started": "2021-06-25T16:00:24.302718Z"
    }
   },
   "outputs": [
    {
     "name": "stdout",
     "output_type": "stream",
     "text": [
      "(7510, 2) (2145, 2) (1074, 2)\n"
     ]
    }
   ],
   "source": [
    "train, test, valid = split_data(data)\n",
    "print(train.shape, test.shape, valid.shape)"
   ]
  },
  {
   "cell_type": "code",
   "execution_count": 83,
   "metadata": {
    "execution": {
     "iopub.execute_input": "2021-06-25T16:00:24.336522Z",
     "iopub.status.busy": "2021-06-25T16:00:24.335968Z",
     "iopub.status.idle": "2021-06-25T16:00:24.350534Z",
     "shell.execute_reply": "2021-06-25T16:00:24.349590Z",
     "shell.execute_reply.started": "2021-06-25T16:00:24.336488Z"
    }
   },
   "outputs": [
    {
     "data": {
      "text/html": [
       "<div>\n",
       "<style scoped>\n",
       "    .dataframe tbody tr th:only-of-type {\n",
       "        vertical-align: middle;\n",
       "    }\n",
       "\n",
       "    .dataframe tbody tr th {\n",
       "        vertical-align: top;\n",
       "    }\n",
       "\n",
       "    .dataframe thead th {\n",
       "        text-align: right;\n",
       "    }\n",
       "</style>\n",
       "<table border=\"1\" class=\"dataframe\">\n",
       "  <thead>\n",
       "    <tr style=\"text-align: right;\">\n",
       "      <th></th>\n",
       "      <th>text</th>\n",
       "    </tr>\n",
       "    <tr>\n",
       "      <th>sentiment</th>\n",
       "      <th></th>\n",
       "    </tr>\n",
       "  </thead>\n",
       "  <tbody>\n",
       "    <tr>\n",
       "      <th>Negative</th>\n",
       "      <td>5945</td>\n",
       "    </tr>\n",
       "    <tr>\n",
       "      <th>Positive</th>\n",
       "      <td>1565</td>\n",
       "    </tr>\n",
       "  </tbody>\n",
       "</table>\n",
       "</div>"
      ],
      "text/plain": [
       "           text\n",
       "sentiment      \n",
       "Negative   5945\n",
       "Positive   1565"
      ]
     },
     "execution_count": 83,
     "metadata": {},
     "output_type": "execute_result"
    }
   ],
   "source": [
    "train.groupby('sentiment').count()"
   ]
  },
  {
   "cell_type": "code",
   "execution_count": 84,
   "metadata": {
    "execution": {
     "iopub.execute_input": "2021-06-25T16:00:24.353513Z",
     "iopub.status.busy": "2021-06-25T16:00:24.353185Z",
     "iopub.status.idle": "2021-06-25T16:00:24.363231Z",
     "shell.execute_reply": "2021-06-25T16:00:24.362235Z",
     "shell.execute_reply.started": "2021-06-25T16:00:24.353480Z"
    }
   },
   "outputs": [],
   "source": [
    "neg_id = train.index[train['sentiment'] == 'Negative'].tolist()\n",
    "neg_id = np.random.choice(neg_id, 1000, replace=False)\n",
    "train = train.drop(neg_id)"
   ]
  },
  {
   "cell_type": "code",
   "execution_count": 85,
   "metadata": {
    "execution": {
     "iopub.execute_input": "2021-06-25T16:00:24.366322Z",
     "iopub.status.busy": "2021-06-25T16:00:24.365695Z",
     "iopub.status.idle": "2021-06-25T16:00:24.379755Z",
     "shell.execute_reply": "2021-06-25T16:00:24.378771Z",
     "shell.execute_reply.started": "2021-06-25T16:00:24.366287Z"
    }
   },
   "outputs": [
    {
     "data": {
      "text/html": [
       "<div>\n",
       "<style scoped>\n",
       "    .dataframe tbody tr th:only-of-type {\n",
       "        vertical-align: middle;\n",
       "    }\n",
       "\n",
       "    .dataframe tbody tr th {\n",
       "        vertical-align: top;\n",
       "    }\n",
       "\n",
       "    .dataframe thead th {\n",
       "        text-align: right;\n",
       "    }\n",
       "</style>\n",
       "<table border=\"1\" class=\"dataframe\">\n",
       "  <thead>\n",
       "    <tr style=\"text-align: right;\">\n",
       "      <th></th>\n",
       "      <th>text</th>\n",
       "    </tr>\n",
       "    <tr>\n",
       "      <th>sentiment</th>\n",
       "      <th></th>\n",
       "    </tr>\n",
       "  </thead>\n",
       "  <tbody>\n",
       "    <tr>\n",
       "      <th>Negative</th>\n",
       "      <td>4945</td>\n",
       "    </tr>\n",
       "    <tr>\n",
       "      <th>Positive</th>\n",
       "      <td>1565</td>\n",
       "    </tr>\n",
       "  </tbody>\n",
       "</table>\n",
       "</div>"
      ],
      "text/plain": [
       "           text\n",
       "sentiment      \n",
       "Negative   4945\n",
       "Positive   1565"
      ]
     },
     "execution_count": 85,
     "metadata": {},
     "output_type": "execute_result"
    }
   ],
   "source": [
    "train.groupby('sentiment').count()"
   ]
  },
  {
   "cell_type": "code",
   "execution_count": 86,
   "metadata": {
    "execution": {
     "iopub.execute_input": "2021-06-25T16:00:24.381414Z",
     "iopub.status.busy": "2021-06-25T16:00:24.381073Z",
     "iopub.status.idle": "2021-06-25T16:00:24.895500Z",
     "shell.execute_reply": "2021-06-25T16:00:24.894464Z",
     "shell.execute_reply.started": "2021-06-25T16:00:24.381381Z"
    },
    "id": "kYkc1sNPZwmK",
    "outputId": "8091e8aa-4da0-407a-da4a-4f9588062da5"
   },
   "outputs": [
    {
     "data": {
      "text/plain": [
       "(array(['Negative', 'Positive'], dtype=object), array([4945, 4945]))"
      ]
     },
     "execution_count": 86,
     "metadata": {},
     "output_type": "execute_result"
    }
   ],
   "source": [
    "n = 4945 - 1565\n",
    "samples_for_sr = train.loc[train['sentiment'] == 'Positive'].sample(n=n, axis=0, replace=True)\n",
    "samples_for_sr['text'] = samples_for_sr['text'].apply(lambda tweet: generate_sentence(tweet))\n",
    "\n",
    "train = train.append(samples_for_sr, ignore_index=True)\n",
    "train = train.sample(frac=1)\n",
    "labels = train['sentiment'].values\n",
    "np.unique(labels, return_counts=True)"
   ]
  },
  {
   "cell_type": "code",
   "execution_count": 87,
   "metadata": {
    "execution": {
     "iopub.execute_input": "2021-06-25T16:00:24.897182Z",
     "iopub.status.busy": "2021-06-25T16:00:24.896819Z",
     "iopub.status.idle": "2021-06-25T16:00:24.905494Z",
     "shell.execute_reply": "2021-06-25T16:00:24.904501Z",
     "shell.execute_reply.started": "2021-06-25T16:00:24.897146Z"
    },
    "id": "yZvYcolRXCpd"
   },
   "outputs": [],
   "source": [
    "p.set_options(p.OPT.URL, p.OPT.MENTION, p.OPT.EMOJI, p.OPT.HASHTAG)\n",
    "\n",
    "def pre_processing(data):\n",
    "    \n",
    "    data['text'] = data['text'].apply(lambda text: text.lower())\n",
    "    \n",
    "    data['text'] = data['text'].apply(lambda tweet: p.clean(tweet))\n",
    "    data['text'] = data['text'].apply(lambda tweet: remove_characters(tweet, string.punctuation))\n",
    "    \n",
    "    stop_words = set(stopwords.words('english'))\n",
    "    data['text'] = data['text'].apply(\n",
    "        lambda tweet: \" \".join([word for word in tweet.split() if word not in stop_words])\n",
    "    )\n",
    "    \n",
    "    return data"
   ]
  },
  {
   "cell_type": "code",
   "execution_count": 88,
   "metadata": {
    "execution": {
     "iopub.execute_input": "2021-06-25T16:00:24.907191Z",
     "iopub.status.busy": "2021-06-25T16:00:24.906713Z",
     "iopub.status.idle": "2021-06-25T16:00:26.252306Z",
     "shell.execute_reply": "2021-06-25T16:00:26.251478Z",
     "shell.execute_reply.started": "2021-06-25T16:00:24.907154Z"
    },
    "id": "7pEwf3rdXCsJ"
   },
   "outputs": [],
   "source": [
    "train = pre_processing(train)\n",
    "test = pre_processing(test)\n",
    "valid = pre_processing(valid)"
   ]
  },
  {
   "cell_type": "code",
   "execution_count": 89,
   "metadata": {
    "execution": {
     "iopub.execute_input": "2021-06-25T16:00:26.254043Z",
     "iopub.status.busy": "2021-06-25T16:00:26.253566Z",
     "iopub.status.idle": "2021-06-25T16:00:26.271569Z",
     "shell.execute_reply": "2021-06-25T16:00:26.270641Z",
     "shell.execute_reply.started": "2021-06-25T16:00:26.254006Z"
    },
    "id": "lAdLOwdpXCuk"
   },
   "outputs": [],
   "source": [
    "train['sentiment'] = train['sentiment'].apply(lambda sent: 1 if sent == 'Negative' else 0)\n",
    "test['sentiment'] = test['sentiment'].apply(lambda sent: 1 if sent == 'Negative' else 0)\n",
    "valid['sentiment'] = valid['sentiment'].apply(lambda sent: 1 if sent == 'Negative' else 0)"
   ]
  },
  {
   "cell_type": "code",
   "execution_count": 90,
   "metadata": {
    "execution": {
     "iopub.execute_input": "2021-06-25T16:00:26.273316Z",
     "iopub.status.busy": "2021-06-25T16:00:26.272904Z",
     "iopub.status.idle": "2021-06-25T16:00:26.279050Z",
     "shell.execute_reply": "2021-06-25T16:00:26.277957Z",
     "shell.execute_reply.started": "2021-06-25T16:00:26.273282Z"
    }
   },
   "outputs": [],
   "source": [
    "x_train, y_train = train['text'], train['sentiment']\n",
    "x_test, y_test = test['text'], test['sentiment']\n",
    "x_valid, y_valid = valid['text'], valid['sentiment']"
   ]
  },
  {
   "cell_type": "code",
   "execution_count": 91,
   "metadata": {
    "execution": {
     "iopub.execute_input": "2021-06-25T16:00:26.281052Z",
     "iopub.status.busy": "2021-06-25T16:00:26.280426Z",
     "iopub.status.idle": "2021-06-25T16:00:26.292407Z",
     "shell.execute_reply": "2021-06-25T16:00:26.291292Z",
     "shell.execute_reply.started": "2021-06-25T16:00:26.281012Z"
    }
   },
   "outputs": [
    {
     "name": "stdout",
     "output_type": "stream",
     "text": [
      "(2145,) (2145,)\n",
      "(1074,) (1074,)\n"
     ]
    }
   ],
   "source": [
    "print(x_test.shape, y_test.shape)\n",
    "print(x_valid.shape, y_valid.shape)"
   ]
  },
  {
   "cell_type": "code",
   "execution_count": 92,
   "metadata": {
    "execution": {
     "iopub.execute_input": "2021-06-25T16:00:26.294521Z",
     "iopub.status.busy": "2021-06-25T16:00:26.293911Z",
     "iopub.status.idle": "2021-06-25T16:00:26.307881Z",
     "shell.execute_reply": "2021-06-25T16:00:26.307013Z",
     "shell.execute_reply.started": "2021-06-25T16:00:26.294482Z"
    },
    "id": "Btkln2SXTBE_"
   },
   "outputs": [],
   "source": [
    "class TweetClassifier(nn.Module):\n",
    "    \n",
    "    def __init__(self, hidden_dim, seq_len, n_lsmt_layers, output_dim, finetune=False):\n",
    "        \n",
    "        super(TweetClassifier, self).__init__()\n",
    "        \n",
    "        self.hidden_dim = hidden_dim\n",
    "        self.n_layers = n_lsmt_layers\n",
    "\n",
    "        self.bert = BertModel.from_pretrained('bert-base-uncased')\n",
    "        if not finetune:\n",
    "            for p in self.bert.parameters():\n",
    "                p.requires_grad = False\n",
    "\n",
    "        self.lstm = nn.LSTM(768, hidden_dim, n_lsmt_layers, batch_first=True, dropout=0.3)\n",
    "\n",
    "        self.classifier = nn.Sequential(\n",
    "            nn.Linear(hidden_dim*seq_len, output_dim),\n",
    "            nn.Sigmoid()\n",
    "        )\n",
    "        \n",
    "    def forward(self, seq, mask, hidden, seq_lens=None, eval_=False):\n",
    "\n",
    "        seq_out, pooled_out = self.bert(input_ids=seq, attention_mask=mask, return_dict=False)\n",
    "        lstm_out, hidden = self.lstm(seq_out, hidden)\n",
    "        lstm_out = lstm_out.reshape(seq.shape[0], -1)\n",
    "        out = self.classifier(lstm_out)\n",
    "        \n",
    "        return out, hidden\n",
    "    \n",
    "    def init_hidden(self, batch_size):\n",
    "        \n",
    "        weight = next(self.parameters()).data\n",
    "        hidden = (weight.new(self.n_layers, batch_size, self.hidden_dim).zero_().cuda(),\n",
    "                    weight.new(self.n_layers, batch_size, self.hidden_dim).zero_().cuda())\n",
    "        \n",
    "        return hidden"
   ]
  },
  {
   "cell_type": "code",
   "execution_count": 93,
   "metadata": {
    "execution": {
     "iopub.execute_input": "2021-06-25T16:00:26.311393Z",
     "iopub.status.busy": "2021-06-25T16:00:26.310932Z",
     "iopub.status.idle": "2021-06-25T16:00:26.322462Z",
     "shell.execute_reply": "2021-06-25T16:00:26.321498Z",
     "shell.execute_reply.started": "2021-06-25T16:00:26.311293Z"
    },
    "id": "TBH_no_WkM-2"
   },
   "outputs": [],
   "source": [
    "def generate_x_y(x_, y_, max_len=100):\n",
    "\n",
    "    tokenizer = BertTokenizer.from_pretrained('bert-base-uncased')\n",
    "\n",
    "    x, y, mask = [], [], []\n",
    "    for i, (sample, label) in enumerate(zip(x_, y_)):\n",
    "\n",
    "        tokens = ['[CLS]'] + tokenizer.tokenize(sample) + ['[SEP]']\n",
    "\n",
    "        if len(tokens) < max_len:\n",
    "            tokens = tokens + ['[PAD]' for _ in range(max_len - len(tokens))]\n",
    "        else:\n",
    "            tokens = tokens[:max_len-1] + ['[SEP]']\n",
    "\n",
    "        token_ids = tokenizer.convert_tokens_to_ids(tokens)\n",
    "        sample_mask = [1 if token != '[PAD]' else 0 for token in tokens]\n",
    "\n",
    "        x.append(token_ids)\n",
    "        mask.append(sample_mask)\n",
    "        y.append(label)\n",
    "\n",
    "    return torch.tensor(x), torch.tensor(y), torch.tensor(mask)"
   ]
  },
  {
   "cell_type": "code",
   "execution_count": 94,
   "metadata": {
    "execution": {
     "iopub.execute_input": "2021-06-25T16:00:26.324105Z",
     "iopub.status.busy": "2021-06-25T16:00:26.323705Z",
     "iopub.status.idle": "2021-06-25T16:00:39.093536Z",
     "shell.execute_reply": "2021-06-25T16:00:39.092699Z",
     "shell.execute_reply.started": "2021-06-25T16:00:26.324056Z"
    },
    "id": "yuY-UH2TlAl_"
   },
   "outputs": [],
   "source": [
    "x_train, y_train, mask_train = generate_x_y(x_train, y_train)\n",
    "x_test, y_test, mask_test = generate_x_y(x_test, y_test)\n",
    "x_valid, y_valid, mask_valid = generate_x_y(x_valid, y_valid)"
   ]
  },
  {
   "cell_type": "code",
   "execution_count": 95,
   "metadata": {
    "execution": {
     "iopub.execute_input": "2021-06-25T16:00:39.095208Z",
     "iopub.status.busy": "2021-06-25T16:00:39.094843Z",
     "iopub.status.idle": "2021-06-25T16:00:39.101021Z",
     "shell.execute_reply": "2021-06-25T16:00:39.100155Z",
     "shell.execute_reply.started": "2021-06-25T16:00:39.095173Z"
    }
   },
   "outputs": [
    {
     "name": "stdout",
     "output_type": "stream",
     "text": [
      "torch.Size([2145, 100]) torch.Size([2145])\n",
      "torch.Size([1074, 100]) torch.Size([1074])\n"
     ]
    }
   ],
   "source": [
    "print(x_test.shape, y_test.shape)\n",
    "print(x_valid.shape, y_valid.shape)"
   ]
  },
  {
   "cell_type": "code",
   "execution_count": 96,
   "metadata": {
    "execution": {
     "iopub.execute_input": "2021-06-25T16:00:39.103130Z",
     "iopub.status.busy": "2021-06-25T16:00:39.102479Z",
     "iopub.status.idle": "2021-06-25T16:00:39.111862Z",
     "shell.execute_reply": "2021-06-25T16:00:39.110996Z",
     "shell.execute_reply.started": "2021-06-25T16:00:39.103023Z"
    },
    "id": "4Eb_gouFmgMR"
   },
   "outputs": [],
   "source": [
    "import numpy as np\n",
    "def generate_batches(x, y, mask, batch_size=128):\n",
    "    \n",
    "    indices = [i for i in range(len(x))]\n",
    "    \n",
    "    start = 0\n",
    "    while start+batch_size <= len(x):\n",
    "        batch_indices = indices[start:start+batch_size]\n",
    "        yield x[batch_indices], y[batch_indices], mask[batch_indices]\n",
    "        start += batch_size\n",
    "        \n",
    "    if start < len(x):\n",
    "        yield x[start:], y[start:], mask[start:]"
   ]
  },
  {
   "cell_type": "code",
   "execution_count": 97,
   "metadata": {
    "execution": {
     "iopub.execute_input": "2021-06-25T16:00:39.113781Z",
     "iopub.status.busy": "2021-06-25T16:00:39.113213Z",
     "iopub.status.idle": "2021-06-25T16:00:39.135944Z",
     "shell.execute_reply": "2021-06-25T16:00:39.135076Z",
     "shell.execute_reply.started": "2021-06-25T16:00:39.113746Z"
    },
    "id": "0zb9OVZ-mMUy"
   },
   "outputs": [],
   "source": [
    "def train(model, x_valid, y_valid, mask_valid, epochs=30, batch_size=128):\n",
    "        \n",
    "    losses, valid_losses = [], []\n",
    "    accuracies, valid_accuracies = [], []\n",
    "    batch_loss = None\n",
    "\n",
    "    loss=nn.BCELoss()\n",
    "    opt=optim.Adam(model.parameters(), lr=0.001)\n",
    "\n",
    "    model.train()\n",
    "\n",
    "    for epoch in range(epochs):\n",
    "        \n",
    "        start = time.time()\n",
    "        \n",
    "        epoch_loss, epoch_accuracy = [], []\n",
    "        for x_batch, y_batch, mask_batch in generate_batches(x_train, y_train, mask_train, batch_size):\n",
    "\n",
    "            hidden = model.init_hidden(len(x_batch))\n",
    "            hidden = tuple([h.data for h in hidden])\n",
    "            \n",
    "            x_batch = x_batch.cuda()\n",
    "            y_batch = y_batch.cuda()\n",
    "            mask_batch = mask_batch.cuda()\n",
    "\n",
    "            model.zero_grad()\n",
    "\n",
    "            y_pred, hidden = model(x_batch, mask_batch, hidden)\n",
    "\n",
    "            y_pred = y_pred.cpu().to(torch.float64)\n",
    "            y_batch = y_batch.cpu().to(torch.float64)\n",
    "            batch_loss = loss(y_pred.view(-1), y_batch)\n",
    "            batch_loss.backward()\n",
    "            opt.step()\n",
    "\n",
    "            epoch_loss.append(batch_loss.detach().numpy())\n",
    "            y_pred = [1 if p > 0.5 else 0 for p in y_pred]\n",
    "            epoch_accuracy.append(accuracy(y_pred, y_batch.detach().numpy()))\n",
    "            \n",
    "        losses.append(np.mean(epoch_loss))\n",
    "        accuracies.append(np.mean(epoch_accuracy))\n",
    "\n",
    "        print(f'============================== epoch {epoch}')\n",
    "        print(f'train loss: {np.mean(epoch_loss)}, train acc: {np.mean(epoch_accuracy)}')\n",
    "        \n",
    "        model.eval()\n",
    "        with torch.no_grad():\n",
    "            \n",
    "            epoch_loss, epoch_accuracy = [], []\n",
    "            for x_batch, y_batch, mask_batch in generate_batches(x_valid, y_valid, mask_valid, batch_size):\n",
    "\n",
    "                hidden = model.init_hidden(len(x_batch))\n",
    "                hidden = tuple([h.data for h in hidden])\n",
    "\n",
    "                x_batch = x_batch.cuda()\n",
    "                y_batch = y_batch.cuda()\n",
    "                mask_batch = mask_batch.cuda()\n",
    "\n",
    "                y_pred, hidden = model(x_batch, mask_batch, hidden)\n",
    "\n",
    "                y_pred = y_pred.cpu().to(torch.float64)\n",
    "                y_batch = y_batch.cpu().to(torch.float64)\n",
    "                batch_loss = loss(y_pred.view(-1), y_batch)\n",
    "\n",
    "                epoch_loss.append(batch_loss.detach().numpy())\n",
    "                y_pred = [1 if p > 0.5 else 0 for p in y_pred]\n",
    "                epoch_accuracy.append(accuracy(y_pred, y_batch.detach().numpy()))\n",
    "            \n",
    "        valid_losses.append(np.mean(epoch_loss))\n",
    "        valid_accuracies.append(np.mean(epoch_accuracy))\n",
    "        \n",
    "        print(f'valid loss: {np.mean(epoch_loss)}, valid acc: {np.mean(epoch_accuracy)}')\n",
    "        print(f'passed time: {time.time() - start}')\n",
    "        \n",
    "        model.train()\n",
    "        \n",
    "    return losses, valid_losses, accuracies, valid_accuracies, model"
   ]
  },
  {
   "cell_type": "code",
   "execution_count": 98,
   "metadata": {
    "execution": {
     "iopub.execute_input": "2021-06-25T16:00:39.137900Z",
     "iopub.status.busy": "2021-06-25T16:00:39.137657Z",
     "iopub.status.idle": "2021-06-25T16:17:49.654955Z",
     "shell.execute_reply": "2021-06-25T16:17:49.652362Z",
     "shell.execute_reply.started": "2021-06-25T16:00:39.137876Z"
    },
    "id": "25vQH6ucnc3m",
    "outputId": "ed95f115-ed41-4e19-df26-e9782a681e8d"
   },
   "outputs": [
    {
     "name": "stdout",
     "output_type": "stream",
     "text": [
      "============================== epoch 0\n",
      "train loss: 0.5633952878183549, train acc: 0.703743636877828\n",
      "valid loss: 0.4632380408924943, valid acc: 0.7760069444444445\n",
      "passed time: 34.25047755241394\n",
      "============================== epoch 1\n",
      "train loss: 0.4817037546851651, train acc: 0.7672452394419306\n",
      "valid loss: 0.4254815925714883, valid acc: 0.8000347222222222\n",
      "passed time: 34.22671937942505\n",
      "============================== epoch 2\n",
      "train loss: 0.42883513176198906, train acc: 0.7980238970588235\n",
      "valid loss: 0.4402333112237249, valid acc: 0.7975347222222222\n",
      "passed time: 34.22999310493469\n",
      "============================== epoch 3\n",
      "train loss: 0.3782712062573561, train acc: 0.8284726150075414\n",
      "valid loss: 0.4660044463789305, valid acc: 0.7987847222222223\n",
      "passed time: 34.22919988632202\n",
      "============================== epoch 4\n",
      "train loss: 0.32359539757676764, train acc: 0.8606004901960784\n",
      "valid loss: 0.5656175534198113, valid acc: 0.7765972222222222\n",
      "passed time: 34.22058129310608\n",
      "============================== epoch 5\n",
      "train loss: 0.2894963095063811, train acc: 0.8762019230769231\n",
      "valid loss: 0.6046957958453383, valid acc: 0.7660763888888888\n",
      "passed time: 34.22898602485657\n",
      "============================== epoch 6\n",
      "train loss: 0.2579241235707652, train acc: 0.8918269230769231\n",
      "valid loss: 0.7386569788957567, valid acc: 0.7365625\n",
      "passed time: 34.22923469543457\n",
      "============================== epoch 7\n",
      "train loss: 0.22980081386161336, train acc: 0.907599217571644\n",
      "valid loss: 0.5655756533321888, valid acc: 0.7861458333333333\n",
      "passed time: 34.23366403579712\n",
      "============================== epoch 8\n",
      "train loss: 0.1889421480201229, train acc: 0.9247030542986425\n",
      "valid loss: 0.5825377502030489, valid acc: 0.8026388888888889\n",
      "passed time: 34.22735023498535\n",
      "============================== epoch 9\n",
      "train loss: 0.19163779242202825, train acc: 0.9273838141025641\n",
      "valid loss: 0.5571962899957685, valid acc: 0.8196180555555556\n",
      "passed time: 34.24152898788452\n",
      "============================== epoch 10\n",
      "train loss: 0.18198748773363588, train acc: 0.9286093042986425\n",
      "valid loss: 0.5314257198283239, valid acc: 0.795798611111111\n",
      "passed time: 34.24280023574829\n",
      "============================== epoch 11\n",
      "train loss: 0.1617789066630733, train acc: 0.9371995192307693\n",
      "valid loss: 0.6448980297617026, valid acc: 0.7904861111111111\n",
      "passed time: 34.2181556224823\n",
      "============================== epoch 12\n",
      "train loss: 0.1509466516037018, train acc: 0.940528374811463\n",
      "valid loss: 0.6482275477686836, valid acc: 0.7927083333333333\n",
      "passed time: 34.239357471466064\n",
      "============================== epoch 13\n",
      "train loss: 0.13524771698116803, train acc: 0.9461844834087481\n",
      "valid loss: 0.6644202534830652, valid acc: 0.8065972222222223\n",
      "passed time: 34.26135301589966\n",
      "============================== epoch 14\n",
      "train loss: 0.12983089891968083, train acc: 0.950020032051282\n",
      "valid loss: 0.9192138710795127, valid acc: 0.7969444444444445\n",
      "passed time: 34.2603235244751\n",
      "============================== epoch 15\n",
      "train loss: 0.11994296249603174, train acc: 0.9540264423076923\n",
      "valid loss: 0.8196079754800886, valid acc: 0.7839236111111112\n",
      "passed time: 34.26361441612244\n",
      "============================== epoch 16\n",
      "train loss: 0.1183767352288218, train acc: 0.9562535350678733\n",
      "valid loss: 0.7244020471468695, valid acc: 0.7896180555555555\n",
      "passed time: 34.26999807357788\n",
      "============================== epoch 17\n",
      "train loss: 0.11927242922498386, train acc: 0.954874858597285\n",
      "valid loss: 0.8126658103795047, valid acc: 0.7761111111111112\n",
      "passed time: 34.260156869888306\n",
      "============================== epoch 18\n",
      "train loss: 0.10574217530070416, train acc: 0.9585336538461539\n",
      "valid loss: 0.8683364538231282, valid acc: 0.7952083333333334\n",
      "passed time: 34.215697288513184\n",
      "============================== epoch 19\n",
      "train loss: 0.10733860040271545, train acc: 0.9605368589743589\n",
      "valid loss: 0.8154166160956628, valid acc: 0.7782291666666666\n",
      "passed time: 34.214391469955444\n",
      "============================== epoch 20\n",
      "train loss: 0.10448045161807613, train acc: 0.9600360576923077\n",
      "valid loss: 1.1673011655451073, valid acc: 0.8186458333333334\n",
      "passed time: 34.225348711013794\n",
      "============================== epoch 21\n",
      "train loss: 0.09997575113488957, train acc: 0.959258342760181\n",
      "valid loss: 0.899676688173221, valid acc: 0.8103472222222222\n",
      "passed time: 34.20296812057495\n",
      "============================== epoch 22\n",
      "train loss: 0.10357677865647712, train acc: 0.9596354166666666\n",
      "valid loss: 0.8977416434490819, valid acc: 0.7769791666666667\n",
      "passed time: 34.2069878578186\n",
      "============================== epoch 23\n",
      "train loss: 0.09603912511489723, train acc: 0.9647907239819004\n",
      "valid loss: 1.2121414353645372, valid acc: 0.7869097222222222\n",
      "passed time: 34.24234938621521\n",
      "============================== epoch 24\n",
      "train loss: 0.0997566273843529, train acc: 0.9627403846153846\n",
      "valid loss: 1.028318739002837, valid acc: 0.7999305555555556\n",
      "passed time: 34.243982791900635\n",
      "============================== epoch 25\n",
      "train loss: 0.09402641693280653, train acc: 0.9612379807692307\n",
      "valid loss: 0.9724705983397663, valid acc: 0.8112152777777778\n",
      "passed time: 34.21372938156128\n",
      "============================== epoch 26\n",
      "train loss: 0.09001819872056223, train acc: 0.9669471153846154\n",
      "valid loss: 0.8853101857972236, valid acc: 0.8090972222222222\n",
      "passed time: 34.21153950691223\n",
      "============================== epoch 27\n",
      "train loss: 0.09180173305610805, train acc: 0.9649674773755655\n",
      "valid loss: 0.966965888314706, valid acc: 0.8069791666666667\n",
      "passed time: 34.22703242301941\n",
      "============================== epoch 28\n",
      "train loss: 0.08667236825884737, train acc: 0.9664463141025641\n",
      "valid loss: 1.1755504458441988, valid acc: 0.79125\n",
      "passed time: 34.21278691291809\n",
      "============================== epoch 29\n",
      "train loss: 0.08229782098841491, train acc: 0.9689503205128205\n",
      "valid loss: 1.1068997674165812, valid acc: 0.8030208333333334\n",
      "passed time: 34.21679735183716\n"
     ]
    }
   ],
   "source": [
    "lstm = TweetClassifier(200, 100, 2, 1)\n",
    "lstm.cuda()\n",
    "\n",
    "losses, valid_losses, accuracies, valid_accuracies, lstm = train(lstm, x_valid, y_valid, mask_valid)"
   ]
  },
  {
   "cell_type": "code",
   "execution_count": 99,
   "metadata": {
    "execution": {
     "iopub.execute_input": "2021-06-25T16:17:49.658672Z",
     "iopub.status.busy": "2021-06-25T16:17:49.658310Z",
     "iopub.status.idle": "2021-06-25T16:17:49.806962Z",
     "shell.execute_reply": "2021-06-25T16:17:49.806038Z",
     "shell.execute_reply.started": "2021-06-25T16:17:49.658634Z"
    }
   },
   "outputs": [
    {
     "data": {
      "text/plain": [
       "<matplotlib.legend.Legend at 0x7faff6fd06d0>"
      ]
     },
     "execution_count": 99,
     "metadata": {},
     "output_type": "execute_result"
    },
    {
     "data": {
      "image/png": "[encoded data removed]",
      "text/plain": [
       "<Figure size 432x288 with 1 Axes>"
      ]
     },
     "metadata": {
      "needs_background": "light"
     },
     "output_type": "display_data"
    }
   ],
   "source": [
    "plt.plot(losses, label='train')\n",
    "plt.plot(valid_losses, label='valid')\n",
    "plt.xlabel('epochs')\n",
    "plt.ylabel('loss')\n",
    "plt.legend()"
   ]
  },
  {
   "cell_type": "code",
   "execution_count": 100,
   "metadata": {
    "execution": {
     "iopub.execute_input": "2021-06-25T16:17:49.808832Z",
     "iopub.status.busy": "2021-06-25T16:17:49.808492Z",
     "iopub.status.idle": "2021-06-25T16:17:49.960113Z",
     "shell.execute_reply": "2021-06-25T16:17:49.959320Z",
     "shell.execute_reply.started": "2021-06-25T16:17:49.808796Z"
    }
   },
   "outputs": [
    {
     "data": {
      "text/plain": [
       "<matplotlib.legend.Legend at 0x7faff52737d0>"
      ]
     },
     "execution_count": 100,
     "metadata": {},
     "output_type": "execute_result"
    },
    {
     "data": {
      "image/png": "[encoded data removed]",
      "text/plain": [
       "<Figure size 432x288 with 1 Axes>"
      ]
     },
     "metadata": {
      "needs_background": "light"
     },
     "output_type": "display_data"
    }
   ],
   "source": [
    "plt.plot(accuracies, label='train')\n",
    "plt.plot(valid_accuracies, label='valid')\n",
    "plt.xlabel('epochs')\n",
    "plt.ylabel('accuracy')\n",
    "plt.legend()"
   ]
  },
  {
   "cell_type": "code",
   "execution_count": 101,
   "metadata": {
    "execution": {
     "iopub.execute_input": "2021-06-25T16:17:49.961754Z",
     "iopub.status.busy": "2021-06-25T16:17:49.961399Z",
     "iopub.status.idle": "2021-06-25T16:17:56.398366Z",
     "shell.execute_reply": "2021-06-25T16:17:56.397532Z",
     "shell.execute_reply.started": "2021-06-25T16:17:49.961717Z"
    }
   },
   "outputs": [],
   "source": [
    "preds = []\n",
    "for x_batch, y_batch, mask_batch in generate_batches(x_test, y_test, mask_test, 128):\n",
    "    \n",
    "    hidden = lstm.init_hidden(len(x_batch))\n",
    "    hidden = tuple([h.data for h in hidden])\n",
    "    \n",
    "    x_batch = x_batch.cuda()\n",
    "    mask_batch = mask_batch.cuda()\n",
    "    pred, _ = lstm(x_batch, mask_batch, hidden)\n",
    "    preds.extend(pred.detach().cpu().numpy())\n",
    "    \n",
    "preds = np.array(preds)"
   ]
  },
  {
   "cell_type": "code",
   "execution_count": 102,
   "metadata": {
    "execution": {
     "iopub.execute_input": "2021-06-25T16:17:56.400040Z",
     "iopub.status.busy": "2021-06-25T16:17:56.399689Z",
     "iopub.status.idle": "2021-06-25T16:17:56.422591Z",
     "shell.execute_reply": "2021-06-25T16:17:56.421782Z",
     "shell.execute_reply.started": "2021-06-25T16:17:56.400002Z"
    }
   },
   "outputs": [
    {
     "name": "stdout",
     "output_type": "stream",
     "text": [
      "              precision    recall  f1-score   support\n",
      "\n",
      "           0       0.50      0.60      0.55       447\n",
      "           1       0.89      0.84      0.86      1698\n",
      "\n",
      "    accuracy                           0.79      2145\n",
      "   macro avg       0.69      0.72      0.70      2145\n",
      "weighted avg       0.81      0.79      0.80      2145\n",
      "\n"
     ]
    }
   ],
   "source": [
    "preds = [1 if p > 0.5 else 0 for p in preds]\n",
    "print(classification_report(y_test, preds))"
   ]
  },
  {
   "cell_type": "code",
   "execution_count": 106,
   "metadata": {
    "execution": {
     "iopub.execute_input": "2021-06-25T16:50:42.665074Z",
     "iopub.status.busy": "2021-06-25T16:50:42.664757Z",
     "iopub.status.idle": "2021-06-25T16:50:42.876575Z",
     "shell.execute_reply": "2021-06-25T16:50:42.875780Z",
     "shell.execute_reply.started": "2021-06-25T16:50:42.665044Z"
    }
   },
   "outputs": [
    {
     "data": {
      "text/plain": [
       "<AxesSubplot:>"
      ]
     },
     "execution_count": 106,
     "metadata": {},
     "output_type": "execute_result"
    },
    {
     "data": {
      "image/png": "[encoded data removed]",
      "text/plain": [
       "<Figure size 432x288 with 2 Axes>"
      ]
     },
     "metadata": {
      "needs_background": "light"
     },
     "output_type": "display_data"
    }
   ],
   "source": [
    "cf_matrix = confusion_matrix(y_test, preds)\n",
    "sns.heatmap(cf_matrix/np.sum(cf_matrix), annot=True, fmt='.2%', cmap='Blues')"
   ]
  },
  {
   "cell_type": "code",
   "execution_count": 126,
   "metadata": {
    "execution": {
     "iopub.execute_input": "2021-06-25T17:00:51.879640Z",
     "iopub.status.busy": "2021-06-25T17:00:51.879224Z",
     "iopub.status.idle": "2021-06-25T17:06:37.405629Z",
     "shell.execute_reply": "2021-06-25T17:06:37.404760Z",
     "shell.execute_reply.started": "2021-06-25T17:00:51.879604Z"
    }
   },
   "outputs": [
    {
     "name": "stdout",
     "output_type": "stream",
     "text": [
      "============================== epoch 0\n",
      "train loss: 0.5677650680295906, train acc: 0.6976044023378583\n",
      "valid loss: 0.44249191709115077, valid acc: 0.7934722222222222\n",
      "passed time: 34.22986435890198\n",
      "============================== epoch 1\n",
      "train loss: 0.4815813829649268, train acc: 0.7723475207390649\n",
      "valid loss: 0.42906993928463916, valid acc: 0.7987847222222223\n",
      "passed time: 34.216800928115845\n",
      "============================== epoch 2\n",
      "train loss: 0.4276880268186383, train acc: 0.7943356429110106\n",
      "valid loss: 0.4507999148647392, valid acc: 0.7765972222222222\n",
      "passed time: 34.2211549282074\n",
      "============================== epoch 3\n",
      "train loss: 0.37913179803315433, train acc: 0.8314774226998491\n",
      "valid loss: 0.4674600003115429, valid acc: 0.8026388888888889\n",
      "passed time: 34.22246289253235\n",
      "============================== epoch 4\n",
      "train loss: 0.3378168163020874, train acc: 0.8535892722473605\n",
      "valid loss: 0.5843642575143568, valid acc: 0.7643402777777778\n",
      "passed time: 34.214043855667114\n",
      "============================== epoch 5\n",
      "train loss: 0.2948769314749094, train acc: 0.8755479355203619\n",
      "valid loss: 0.5224118523695918, valid acc: 0.8121875\n",
      "passed time: 34.2078070640564\n",
      "============================== epoch 6\n",
      "train loss: 0.25124739734807944, train acc: 0.8953560991704373\n",
      "valid loss: 0.5951165717867631, valid acc: 0.7809375\n",
      "passed time: 34.221718072891235\n",
      "============================== epoch 7\n",
      "train loss: 0.22331532670957926, train acc: 0.9093785350678733\n",
      "valid loss: 0.5475676300001497, valid acc: 0.7908680555555556\n",
      "passed time: 34.210877418518066\n",
      "============================== epoch 8\n",
      "train loss: 0.2029262302387213, train acc: 0.9193709935897436\n",
      "valid loss: 0.5601054579879947, valid acc: 0.8026388888888889\n",
      "passed time: 34.224228382110596\n",
      "============================== epoch 9\n",
      "train loss: 0.20177025411454508, train acc: 0.9166136406485671\n",
      "valid loss: 0.5426033280550938, valid acc: 0.8160416666666667\n",
      "passed time: 34.22399401664734\n"
     ]
    }
   ],
   "source": [
    "lstm = TweetClassifier(200, 100, 2, 1)\n",
    "lstm.cuda()\n",
    "\n",
    "losses, valid_losses, accuracies, valid_accuracies, lstm = train(lstm, x_valid, y_valid, mask_valid, epochs=10)"
   ]
  },
  {
   "cell_type": "code",
   "execution_count": 127,
   "metadata": {
    "execution": {
     "iopub.execute_input": "2021-06-25T17:06:37.407635Z",
     "iopub.status.busy": "2021-06-25T17:06:37.407124Z",
     "iopub.status.idle": "2021-06-25T17:06:37.566941Z",
     "shell.execute_reply": "2021-06-25T17:06:37.566100Z",
     "shell.execute_reply.started": "2021-06-25T17:06:37.407598Z"
    }
   },
   "outputs": [
    {
     "data": {
      "text/plain": [
       "<matplotlib.legend.Legend at 0x7faff42e4a10>"
      ]
     },
     "execution_count": 127,
     "metadata": {},
     "output_type": "execute_result"
    },
    {
     "data": {
      "image/png": "[encoded data removed]",
      "text/plain": [
       "<Figure size 432x288 with 1 Axes>"
      ]
     },
     "metadata": {
      "needs_background": "light"
     },
     "output_type": "display_data"
    }
   ],
   "source": [
    "plt.plot(losses, label='train')\n",
    "plt.plot(valid_losses, label='valid')\n",
    "plt.xlabel('epochs')\n",
    "plt.ylabel('loss')\n",
    "plt.legend()"
   ]
  },
  {
   "cell_type": "code",
   "execution_count": 128,
   "metadata": {
    "execution": {
     "iopub.execute_input": "2021-06-25T17:06:37.569079Z",
     "iopub.status.busy": "2021-06-25T17:06:37.568599Z",
     "iopub.status.idle": "2021-06-25T17:06:37.705609Z",
     "shell.execute_reply": "2021-06-25T17:06:37.704792Z",
     "shell.execute_reply.started": "2021-06-25T17:06:37.569039Z"
    }
   },
   "outputs": [
    {
     "data": {
      "text/plain": [
       "<matplotlib.legend.Legend at 0x7faff45446d0>"
      ]
     },
     "execution_count": 128,
     "metadata": {},
     "output_type": "execute_result"
    },
    {
     "data": {
      "image/png": "[encoded data removed]",
      "text/plain": [
       "<Figure size 432x288 with 1 Axes>"
      ]
     },
     "metadata": {
      "needs_background": "light"
     },
     "output_type": "display_data"
    }
   ],
   "source": [
    "plt.plot(accuracies, label='train')\n",
    "plt.plot(valid_accuracies, label='valid')\n",
    "plt.xlabel('epochs')\n",
    "plt.ylabel('accuracy')\n",
    "plt.legend()"
   ]
  },
  {
   "cell_type": "code",
   "execution_count": 129,
   "metadata": {
    "execution": {
     "iopub.execute_input": "2021-06-25T17:06:37.707461Z",
     "iopub.status.busy": "2021-06-25T17:06:37.706975Z",
     "iopub.status.idle": "2021-06-25T17:06:44.141713Z",
     "shell.execute_reply": "2021-06-25T17:06:44.140874Z",
     "shell.execute_reply.started": "2021-06-25T17:06:37.707424Z"
    }
   },
   "outputs": [],
   "source": [
    "preds = []\n",
    "for x_batch, y_batch, mask_batch in generate_batches(x_test, y_test, mask_test, 128):\n",
    "    \n",
    "    hidden = lstm.init_hidden(len(x_batch))\n",
    "    hidden = tuple([h.data for h in hidden])\n",
    "    \n",
    "    x_batch = x_batch.cuda()\n",
    "    mask_batch = mask_batch.cuda()\n",
    "    pred, _ = lstm(x_batch, mask_batch, hidden)\n",
    "    preds.extend(pred.detach().cpu().numpy())\n",
    "    \n",
    "preds = np.array(preds)"
   ]
  },
  {
   "cell_type": "code",
   "execution_count": 130,
   "metadata": {
    "execution": {
     "iopub.execute_input": "2021-06-25T17:06:44.143441Z",
     "iopub.status.busy": "2021-06-25T17:06:44.143121Z",
     "iopub.status.idle": "2021-06-25T17:06:44.165588Z",
     "shell.execute_reply": "2021-06-25T17:06:44.164768Z",
     "shell.execute_reply.started": "2021-06-25T17:06:44.143407Z"
    }
   },
   "outputs": [
    {
     "name": "stdout",
     "output_type": "stream",
     "text": [
      "              precision    recall  f1-score   support\n",
      "\n",
      "           0       0.57      0.52      0.54       447\n",
      "           1       0.88      0.90      0.89      1698\n",
      "\n",
      "    accuracy                           0.82      2145\n",
      "   macro avg       0.72      0.71      0.71      2145\n",
      "weighted avg       0.81      0.82      0.81      2145\n",
      "\n"
     ]
    }
   ],
   "source": [
    "preds = [1 if p > 0.5 else 0 for p in preds]\n",
    "print(classification_report(y_test, preds))"
   ]
  },
  {
   "cell_type": "code",
   "execution_count": 131,
   "metadata": {
    "execution": {
     "iopub.execute_input": "2021-06-25T17:06:44.167304Z",
     "iopub.status.busy": "2021-06-25T17:06:44.166815Z",
     "iopub.status.idle": "2021-06-25T17:06:44.379539Z",
     "shell.execute_reply": "2021-06-25T17:06:44.378792Z",
     "shell.execute_reply.started": "2021-06-25T17:06:44.167269Z"
    }
   },
   "outputs": [
    {
     "data": {
      "text/plain": [
       "<AxesSubplot:>"
      ]
     },
     "execution_count": 131,
     "metadata": {},
     "output_type": "execute_result"
    },
    {
     "data": {
      "image/png": "[encoded data removed]",
      "text/plain": [
       "<Figure size 432x288 with 2 Axes>"
      ]
     },
     "metadata": {
      "needs_background": "light"
     },
     "output_type": "display_data"
    }
   ],
   "source": [
    "cf_matrix = confusion_matrix(y_test, preds)\n",
    "sns.heatmap(cf_matrix/np.sum(cf_matrix), annot=True, fmt='.2%', cmap='Blues')"
   ]
  }
 ],
 "metadata": {
  "kernelspec": {
   "display_name": "Python 3",
   "language": "python",
   "name": "python3"
  },
  "language_info": {
   "codemirror_mode": {
    "name": "ipython",
    "version": 3
   },
   "file_extension": ".py",
   "mimetype": "text/x-python",
   "name": "python",
   "nbconvert_exporter": "python",
   "pygments_lexer": "ipython3",
   "version": "3.8.5"
  }
 },
 "nbformat": 4,
 "nbformat_minor": 4
}
